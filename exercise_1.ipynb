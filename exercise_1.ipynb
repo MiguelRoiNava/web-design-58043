{
  "nbformat": 4,
  "nbformat_minor": 0,
  "metadata": {
    "colab": {
      "name": "exercise 1",
      "provenance": [],
      "authorship_tag": "ABX9TyPPL3E+hydQ1MdDYGRzL6aD",
      "include_colab_link": true
    },
    "kernelspec": {
      "name": "python3",
      "display_name": "Python 3"
    },
    "language_info": {
      "name": "python"
    }
  },
  "cells": [
    {
      "cell_type": "markdown",
      "metadata": {
        "id": "view-in-github",
        "colab_type": "text"
      },
      "source": [
        "<a href=\"https://colab.research.google.com/github/MiguelRoiNava/web-design-58043/blob/main/exercise_1.ipynb\" target=\"_parent\"><img src=\"https://colab.research.google.com/assets/colab-badge.svg\" alt=\"Open In Colab\"/></a>"
      ]
    },
    {
      "cell_type": "code",
      "execution_count": 1,
      "metadata": {
        "colab": {
          "base_uri": "https://localhost:8080/"
        },
        "id": "AJnFfyiAtDvg",
        "outputId": "a3b0a0c7-acd3-4202-b7d3-66b576feff4d"
      },
      "outputs": [
        {
          "output_type": "stream",
          "name": "stdout",
          "text": [
            "What is the given?\n",
            "1 = Radius\n",
            "2 = Diameter1\n",
            "\n",
            "Enter the radius of the circle: 2.5\n",
            "Area of a circle = 19.62\n"
          ]
        }
      ],
      "source": [
        "pi = 3.14\n",
        "\n",
        "choice = int(input(\"What is the given?\\n1 = Radius\\n2 = Diameter\"))\n",
        "\n",
        "if choice == 1:\n",
        "  r = float(input(\"\\nEnter the radius of the circle: \"))\n",
        "  area = pi * r * r\n",
        "  print(\"Area of a circle = %.2f\" %area)\n",
        "\n",
        "elif choice == 2:\n",
        "  d = float(input(\"\\nEnter the diameter of the circle: \"))\n",
        "  area = (pi * d * d)/4\n",
        "  print(\"Area of a circle = %.2f\" %area)"
      ]
    }
  ]
}